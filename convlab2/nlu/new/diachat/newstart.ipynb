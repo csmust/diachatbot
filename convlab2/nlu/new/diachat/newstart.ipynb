{
 "cells": [
  {
   "cell_type": "code",
   "execution_count": 2,
   "metadata": {},
   "outputs": [
    {
     "data": {
      "text/plain": [
       "['我', '现', '在', '没', '有', '吃', '药', '，', '不', '需', '要', '吃', '药', '吗', '？']"
      ]
     },
     "execution_count": 2,
     "metadata": {},
     "output_type": "execute_result"
    }
   ],
   "source": [
    "import torch\n",
    "import transformers\n",
    "#使用bert进行分词\n",
    "tokenizer = transformers.BertTokenizer.from_pretrained(\"hfl/chinese-bert-wwm-ext\")\n",
    "tokenizer.tokenize(\"我现在没有吃药，不需要吃药吗？\")"
   ]
  },
  {
   "cell_type": "code",
   "execution_count": null,
   "metadata": {},
   "outputs": [],
   "source": [
    "#使用gpt2进行分词\n",
    "tokenizer = transformers.AutoTokenizer.from_pretrained(\"gpt2\")"
   ]
  }
 ],
 "metadata": {
  "kernelspec": {
   "display_name": "clb2",
   "language": "python",
   "name": "python3"
  },
  "language_info": {
   "codemirror_mode": {
    "name": "ipython",
    "version": 3
   },
   "file_extension": ".py",
   "mimetype": "text/x-python",
   "name": "python",
   "nbconvert_exporter": "python",
   "pygments_lexer": "ipython3",
   "version": "3.9.13"
  },
  "orig_nbformat": 4
 },
 "nbformat": 4,
 "nbformat_minor": 2
}
