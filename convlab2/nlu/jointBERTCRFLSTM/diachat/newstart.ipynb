{
 "cells": [
  {
   "cell_type": "code",
   "execution_count": 4,
   "metadata": {},
   "outputs": [
    {
     "data": {
      "text/plain": [
       "['上',\n",
       " '次',\n",
       " '住',\n",
       " '院',\n",
       " '也',\n",
       " '没',\n",
       " '说',\n",
       " '什',\n",
       " '么',\n",
       " '原',\n",
       " '因',\n",
       " '也',\n",
       " '不',\n",
       " '能',\n",
       " '吃',\n",
       " '饭',\n",
       " '，',\n",
       " '说',\n",
       " '有',\n",
       " '尿',\n",
       " '潴',\n",
       " '留',\n",
       " '，',\n",
       " '植',\n",
       " '物',\n",
       " '神',\n",
       " '经',\n",
       " '病',\n",
       " '变',\n",
       " '，',\n",
       " '左',\n",
       " '腿',\n",
       " '有',\n",
       " '斑',\n",
       " '块',\n",
       " '，',\n",
       " '左',\n",
       " '手',\n",
       " '也',\n",
       " '没',\n",
       " '力',\n",
       " '气']"
      ]
     },
     "execution_count": 4,
     "metadata": {},
     "output_type": "execute_result"
    }
   ],
   "source": [
    "import torch\n",
    "import transformers\n",
    "#使用bert进行分词\n",
    "tokenizer = transformers.BertTokenizer.from_pretrained(\"hfl/chinese-bert-wwm-ext\")\n",
    "tokenizer.tokenize(\"上次住院也没说什么原因也不能吃饭，说有尿潴留，植物神经病变，左腿有斑块，左手也没力气\")"
   ]
  },
  {
   "cell_type": "code",
   "execution_count": 2,
   "metadata": {},
   "outputs": [
    {
     "name": "stdout",
     "output_type": "stream",
     "text": [
      "# jionlp - 微信公众号: JioNLP  Github: `https://github.com/dongrixinyu/JioNLP`.\n",
      "# jiojio - `http://www.jionlp.com/jionlp_online/cws_pos` is available for online trial.\n",
      "# jiojio - Successfully load C funcs for CWS and POS acceleration.\n"
     ]
    }
   ],
   "source": [
    "import jionlp"
   ]
  },
  {
   "cell_type": "code",
   "execution_count": 3,
   "metadata": {},
   "outputs": [
    {
     "ename": "TypeError",
     "evalue": "'module' object is not callable",
     "output_type": "error",
     "traceback": [
      "\u001b[0;31m---------------------------------------------------------------------------\u001b[0m",
      "\u001b[0;31mTypeError\u001b[0m                                 Traceback (most recent call last)",
      "Cell \u001b[0;32mIn[3], line 1\u001b[0m\n\u001b[0;32m----> 1\u001b[0m jionlp\u001b[39m.\u001b[39;49mreplace_entity(\u001b[39m\"\u001b[39;49m\u001b[39m我吃莲藕排骨还喝汤，血糖升高，是不是不能喝啊\u001b[39;49m\u001b[39m\"\u001b[39;49m)\n",
      "\u001b[0;31mTypeError\u001b[0m: 'module' object is not callable"
     ]
    }
   ],
   "source": [
    "jionlp.replace_entity(\"我吃莲藕排骨还喝汤，血糖升高，是不是不能喝啊\")"
   ]
  },
  {
   "cell_type": "code",
   "execution_count": 3,
   "metadata": {},
   "outputs": [],
   "source": [
    "import jionlp as jio"
   ]
  },
  {
   "cell_type": "code",
   "execution_count": 7,
   "metadata": {},
   "outputs": [
    {
     "name": "stdout",
     "output_type": "stream",
     "text": [
      "{'Person': {'马成宇': 1}, 'Company': {'百度': 4, '国力教育公司': 1}, 'Organization': {'延平区人民法院': 1}}\n"
     ]
    }
   ],
   "source": [
    "dataset_y = [[{'type': 'Person', 'text': '马成宇', 'offset': (0, 3)},\n",
    "                  {'type': 'Company', 'text': '百度', 'offset': (10, 12)},\n",
    "                  {'type': 'Company', 'text': '百度', 'offset': (20, 22)}],\n",
    "                 [{'type': 'Company', 'text': '国力教育公司', 'offset': (2, 8)}],\n",
    "                 [{'type': 'Organization', 'text': '延平区人民法院', 'offset': (0, 7)},\n",
    "                  {'type': 'Company', 'text': '百度', 'offset': (10, 12)},\n",
    "                  {'type': 'Company', 'text': '百度', 'offset': (20, 22)}]]\n",
    "entity_dict = jio.ner.collect_dataset_entities(dataset_y)\n",
    "print(entity_dict)"
   ]
  },
  {
   "cell_type": "code",
   "execution_count": 16,
   "metadata": {},
   "outputs": [
    {
     "ename": "KeyError",
     "evalue": "'offset'",
     "output_type": "error",
     "traceback": [
      "\u001b[0;31m---------------------------------------------------------------------------\u001b[0m",
      "\u001b[0;31mKeyError\u001b[0m                                  Traceback (most recent call last)",
      "Cell \u001b[0;32mIn[16], line 6\u001b[0m\n\u001b[1;32m      2\u001b[0m text \u001b[39m=\u001b[39m \u001b[39m'\u001b[39m\u001b[39m腾讯致力于游戏，阿里巴巴致力于电商。小马会玩。\u001b[39m\u001b[39m'\u001b[39m\n\u001b[1;32m      3\u001b[0m entities \u001b[39m=\u001b[39m [{\u001b[39m'\u001b[39m\u001b[39mtype\u001b[39m\u001b[39m'\u001b[39m: \u001b[39m'\u001b[39m\u001b[39mCompany\u001b[39m\u001b[39m'\u001b[39m, \u001b[39m'\u001b[39m\u001b[39mtext\u001b[39m\u001b[39m'\u001b[39m: \u001b[39m'\u001b[39m\u001b[39m腾讯\u001b[39m\u001b[39m'\u001b[39m },\n\u001b[1;32m      4\u001b[0m                 {\u001b[39m'\u001b[39m\u001b[39mtype\u001b[39m\u001b[39m'\u001b[39m: \u001b[39m'\u001b[39m\u001b[39mCompany\u001b[39m\u001b[39m'\u001b[39m, \u001b[39m'\u001b[39m\u001b[39mtext\u001b[39m\u001b[39m'\u001b[39m: \u001b[39m'\u001b[39m\u001b[39m阿里巴巴\u001b[39m\u001b[39m'\u001b[39m},\n\u001b[1;32m      5\u001b[0m                 {\u001b[39m'\u001b[39m\u001b[39mtype\u001b[39m\u001b[39m'\u001b[39m: \u001b[39m'\u001b[39m\u001b[39mPerson\u001b[39m\u001b[39m'\u001b[39m, \u001b[39m'\u001b[39m\u001b[39mtext\u001b[39m\u001b[39m'\u001b[39m: \u001b[39m'\u001b[39m\u001b[39m小马\u001b[39m\u001b[39m'\u001b[39m}]\n\u001b[0;32m----> 6\u001b[0m aug_texts, aug_entities \u001b[39m=\u001b[39m replace_entity(text, entities)\n\u001b[1;32m      7\u001b[0m \u001b[39mprint\u001b[39m(aug_texts, aug_entities)\n",
      "File \u001b[0;32m~/.conda/envs/clb2/lib/python3.9/site-packages/jionlp/textaug/replace_entity.py:73\u001b[0m, in \u001b[0;36mReplaceEntity.__call__\u001b[0;34m(self, text, entities, augmentation_num, replace_ratio, seed)\u001b[0m\n\u001b[1;32m     70\u001b[0m \u001b[39mif\u001b[39;00m \u001b[39mself\u001b[39m\u001b[39m.\u001b[39mreplace_ratio \u001b[39m!=\u001b[39m replace_ratio \u001b[39mor\u001b[39;00m \u001b[39mself\u001b[39m\u001b[39m.\u001b[39mseed \u001b[39m!=\u001b[39m seed:\n\u001b[1;32m     71\u001b[0m     \u001b[39mself\u001b[39m\u001b[39m.\u001b[39m_prepare(replace_ratio\u001b[39m=\u001b[39mreplace_ratio, seed\u001b[39m=\u001b[39mseed)\n\u001b[0;32m---> 73\u001b[0m entities \u001b[39m=\u001b[39m \u001b[39msorted\u001b[39;49m(entities, key\u001b[39m=\u001b[39;49m\u001b[39mlambda\u001b[39;49;00m i: i[\u001b[39m'\u001b[39;49m\u001b[39moffset\u001b[39;49m\u001b[39m'\u001b[39;49m][\u001b[39m0\u001b[39;49m])\n\u001b[1;32m     74\u001b[0m augmentation_text_list \u001b[39m=\u001b[39m \u001b[39mlist\u001b[39m()\n\u001b[1;32m     75\u001b[0m augmentation_entities_list \u001b[39m=\u001b[39m \u001b[39mlist\u001b[39m()\n",
      "File \u001b[0;32m~/.conda/envs/clb2/lib/python3.9/site-packages/jionlp/textaug/replace_entity.py:73\u001b[0m, in \u001b[0;36mReplaceEntity.__call__.<locals>.<lambda>\u001b[0;34m(i)\u001b[0m\n\u001b[1;32m     70\u001b[0m \u001b[39mif\u001b[39;00m \u001b[39mself\u001b[39m\u001b[39m.\u001b[39mreplace_ratio \u001b[39m!=\u001b[39m replace_ratio \u001b[39mor\u001b[39;00m \u001b[39mself\u001b[39m\u001b[39m.\u001b[39mseed \u001b[39m!=\u001b[39m seed:\n\u001b[1;32m     71\u001b[0m     \u001b[39mself\u001b[39m\u001b[39m.\u001b[39m_prepare(replace_ratio\u001b[39m=\u001b[39mreplace_ratio, seed\u001b[39m=\u001b[39mseed)\n\u001b[0;32m---> 73\u001b[0m entities \u001b[39m=\u001b[39m \u001b[39msorted\u001b[39m(entities, key\u001b[39m=\u001b[39m\u001b[39mlambda\u001b[39;00m i: i[\u001b[39m'\u001b[39;49m\u001b[39moffset\u001b[39;49m\u001b[39m'\u001b[39;49m][\u001b[39m0\u001b[39m])\n\u001b[1;32m     74\u001b[0m augmentation_text_list \u001b[39m=\u001b[39m \u001b[39mlist\u001b[39m()\n\u001b[1;32m     75\u001b[0m augmentation_entities_list \u001b[39m=\u001b[39m \u001b[39mlist\u001b[39m()\n",
      "\u001b[0;31mKeyError\u001b[0m: 'offset'"
     ]
    }
   ],
   "source": [
    "replace_entity = jio.ReplaceEntity(entity_dict)\n",
    "text = '腾讯致力于游戏，阿里巴巴致力于电商。小马会玩。'\n",
    "entities = [{'type': 'Company', 'text': '腾讯', 'offset': (0, 2)},\n",
    "                {'type': 'Company', 'text': '阿里巴巴', 'offset': (8, 12)},\n",
    "                {'type': 'Person', 'text': '小马', 'offset': (18, 20)}]\n",
    "aug_texts, aug_entities = replace_entity(text, entities)\n",
    "print(aug_texts, aug_entities)"
   ]
  },
  {
   "cell_type": "code",
   "execution_count": null,
   "metadata": {},
   "outputs": [],
   "source": []
  }
 ],
 "metadata": {
  "kernelspec": {
   "display_name": "clb2",
   "language": "python",
   "name": "python3"
  },
  "language_info": {
   "codemirror_mode": {
    "name": "ipython",
    "version": 3
   },
   "file_extension": ".py",
   "mimetype": "text/x-python",
   "name": "python",
   "nbconvert_exporter": "python",
   "pygments_lexer": "ipython3",
   "version": "3.9.13"
  },
  "orig_nbformat": 4
 },
 "nbformat": 4,
 "nbformat_minor": 2
}
